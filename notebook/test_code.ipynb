{
 "cells": [
  {
   "cell_type": "code",
   "execution_count": 29,
   "id": "60c79d6b",
   "metadata": {},
   "outputs": [
    {
     "name": "stdout",
     "output_type": "stream",
     "text": [
      "Enter a number:10\n",
      "sum of the digits in the number 10! is 27\n"
     ]
    }
   ],
   "source": [
    "# Using NO BUILT IN LIBRARIES, write a program that satisfies the following problem:\n",
    "\n",
    "# n! means n × (n − 1) × ... × 3 × 2 × 1\n",
    "\n",
    "# For example, 10! = 10 × 9 × ... × 3 × 2 × 1 = 3628800, and the sum of the digits in the number 10! is 3 + 6 + 2 + 8 + 8 + 0 + 0 = 27.\n",
    "\n",
    "# Find the sum of the digits in the number 100!\n",
    "\n",
    "def sum_of_digits_after_factorial(num):\n",
    "    fact_total = 1\n",
    "    sod = 0\n",
    "    for n in range(num, 0, -1):\n",
    "        fact_total *= n\n",
    "    for n in str(fact_total):\n",
    "        sod += int(n)\n",
    "    return sod\n",
    "\n",
    "\n",
    "num = int(input(\"Enter a number:\"))\n",
    "sod = sum_of_digits_after_factorial(num)\n",
    "print(f'sum of the digits in the number {num}! is {sod}')"
   ]
  },
  {
   "cell_type": "code",
   "execution_count": 87,
   "id": "ea086985",
   "metadata": {},
   "outputs": [],
   "source": [
    "# We have provided you with a stub class called Account that represents a bank account. \n",
    "# Please fill out the stub functions, then write a program that creates 3 unique instances of the class, and store them in a data structure of your choice. \n",
    "# Explain your thought process behind choosing a data structure.\n",
    "user_account_instances = {}\n",
    "\n",
    "class Account:\n",
    "    def __init__(self, uuid, name, balance):\n",
    "        self.id = uuid\n",
    "        self.name = name\n",
    "        self.balance = balance\n",
    "        \n",
    "    def deposit(self, amount):\n",
    "        self.balance = self.balance + amount\n",
    "        print(f'Deposited RM{amount} to the account, balance in user {self.name} is now RM{self.balance}')\n",
    "\n",
    "    def withdraw(self, uid, amount):\n",
    "        self.balance = self.balance - amount\n",
    "        print(f'Withdrawed RM{amount} from the account, balance in user {self.name} is now RM{self.balance}')\n",
    "        \n",
    "    def __str__(self):\n",
    "        return f\"{self.name}'s account. Balance: {self.balance}\"\n",
    "    \n",
    "# create 3 unique instances of the class\n",
    "user_account_instances['A1'] = Account('A1', 'Ali', 10000)\n",
    "user_account_instances['A2'] = Account('A2', 'Ahmad', 1900)\n",
    "user_account_instances['A3'] = Account('A3', 'Aireen', 100340)"
   ]
  },
  {
   "cell_type": "code",
   "execution_count": 134,
   "id": "454fd428",
   "metadata": {},
   "outputs": [],
   "source": [
    "# We have recieved a request to create a new class DevAccount inheriting from the Account class for testing and development purposes. \n",
    "# This new class contains the additional functions:\n",
    "\n",
    "# Get Balance\n",
    "# Set Balance\n",
    "# Transfer to other account\n",
    "# Please implement the afformentioned class and their functions\n",
    "class DevAccount(Account):\n",
    "    def get_balance(self):\n",
    "        return self.balance\n",
    "    def set_balance(self, amount):\n",
    "        self.balance = amount\n",
    "    def transfer_to_other_account(self, target_account, amount):\n",
    "        curr_balance = self.get_balance()\n",
    "        if curr_balance <= amount:\n",
    "            print('Insufficient funds. Process declined.')\n",
    "            return\n",
    "        \n",
    "        left_balance = curr_balance - amount\n",
    "        self.set_balance(left_balance)\n",
    "        \n",
    "        target_account.deposit(amount)\n",
    "        print(f'Process successful. RM{amount} has been deducted from your account.')\n",
    "        print(f'Your previous balance was RM{curr_balance} and your current balance is now RM{left_balance}')"
   ]
  },
  {
   "cell_type": "code",
   "execution_count": 135,
   "id": "695cdfad",
   "metadata": {},
   "outputs": [],
   "source": [
    "# create 3 unique instances of the class\n",
    "user_account_instances = {}\n",
    "user_account_instances['A1'] = DevAccount('A1', 'Ali', 10000)\n",
    "user_account_instances['A2'] = DevAccount('A2', 'Ahmad', 1900)\n",
    "user_account_instances['A3'] = DevAccount('A3', 'Aireen', 100340)"
   ]
  },
  {
   "cell_type": "code",
   "execution_count": 138,
   "id": "f9776ca7",
   "metadata": {},
   "outputs": [
    {
     "name": "stdout",
     "output_type": "stream",
     "text": [
      "Deposited RM1000 to the account, balance in user Ahmad is now RM3900\n",
      "Process successful. RM1000 has been deducted from your account.\n",
      "Your previous balance was RM9000 and your current balance is now RM8000\n"
     ]
    }
   ],
   "source": [
    "user_account_instances['A1'].transfer_to_other_account(user_account_instances['A2'], 1000)"
   ]
  },
  {
   "cell_type": "code",
   "execution_count": 139,
   "id": "6b056014",
   "metadata": {},
   "outputs": [
    {
     "data": {
      "text/plain": [
       "8000"
      ]
     },
     "execution_count": 139,
     "metadata": {},
     "output_type": "execute_result"
    }
   ],
   "source": [
    "user_account_instances['A1'].get_balance()"
   ]
  },
  {
   "cell_type": "code",
   "execution_count": null,
   "id": "ce743311",
   "metadata": {},
   "outputs": [],
   "source": []
  }
 ],
 "metadata": {
  "kernelspec": {
   "display_name": "Python 3 (ipykernel)",
   "language": "python",
   "name": "python3"
  },
  "language_info": {
   "codemirror_mode": {
    "name": "ipython",
    "version": 3
   },
   "file_extension": ".py",
   "mimetype": "text/x-python",
   "name": "python",
   "nbconvert_exporter": "python",
   "pygments_lexer": "ipython3",
   "version": "3.9.7"
  }
 },
 "nbformat": 4,
 "nbformat_minor": 5
}
